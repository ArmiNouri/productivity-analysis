{
 "cells": [
  {
   "cell_type": "code",
   "execution_count": 43,
   "metadata": {
    "collapsed": false
   },
   "outputs": [],
   "source": [
    "from wordcloud import WordCloud, STOPWORDS\n",
    "import matplotlib.pyplot as plt\n",
    "import numpy as np\n",
    "\n",
    "f = open(\"potus.tsv\", 'r')\n",
    "lines = f.read().splitlines()\n",
    "text = ''\n",
    "#start_date = datetime.datetime.strptime('2016-03-18', '%Y-%m-%d')\n",
    "for line in lines:\n",
    "#     date = datetime.datetime.strptime(line.split('\\t')[2], '%Y-%m-%d') \n",
    "#     if(date > start_date):\n",
    "    text += line.split('\\t')[0].lower().split('http')[0].split('pic.twitter')[0]\n",
    "\n",
    "#wordcloud = WordCloud().generate(text)\n",
    "stopwords = set(STOPWORDS)\n",
    "stopwords.add(\"http\")\n",
    "stopwords.add(\"https\")\n",
    "# lower max_font_size\n",
    "wordcloud = WordCloud(max_font_size=40, stopwords=stopwords).generate(text)\n",
    "f = plt.figure(figsize=(8, 6), dpi=600)\n",
    "plt.imshow(wordcloud)\n",
    "plt.axis(\"off\")\n",
    "#plt.show()\n",
    "f.savefig('wordcloud2.png')\n",
    "\n",
    "w = open(\"potuswords.tsv\", 'w')\n",
    "arr = wordcloud.process_text(text)\n",
    "arr.sort(key=lambda tup: -1 * tup[1])\n",
    "for a in arr:\n",
    "    w.write(a[0] + \"\\t\" + str(a[1]) + \"\\n\")\n",
    "w.close()    "
   ]
  },
  {
   "cell_type": "code",
   "execution_count": null,
   "metadata": {
    "collapsed": true
   },
   "outputs": [],
   "source": []
  }
 ],
 "metadata": {
  "kernelspec": {
   "display_name": "Python 2",
   "language": "python",
   "name": "python2"
  },
  "language_info": {
   "codemirror_mode": {
    "name": "ipython",
    "version": 2
   },
   "file_extension": ".py",
   "mimetype": "text/x-python",
   "name": "python",
   "nbconvert_exporter": "python",
   "pygments_lexer": "ipython2",
   "version": "2.7.12"
  }
 },
 "nbformat": 4,
 "nbformat_minor": 2
}
